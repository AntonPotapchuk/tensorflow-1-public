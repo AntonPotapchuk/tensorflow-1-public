{
 "cells": [
  {
   "cell_type": "markdown",
   "metadata": {
    "colab_type": "text",
    "id": "view-in-github"
   },
   "source": [
    "<a href=\"https://colab.research.google.com/github/https-deeplearning-ai/tensorflow-1-public/blob/adding_C4/C4/W3/ungraded_labs/C4_W3_Lab_2_LSTM.ipynb\" target=\"_parent\"><img src=\"https://colab.research.google.com/assets/colab-badge.svg\" alt=\"Open In Colab\"/></a>"
   ]
  },
  {
   "cell_type": "code",
   "execution_count": 1,
   "metadata": {
    "id": "zX4Kg8DUTKWO"
   },
   "outputs": [],
   "source": [
    "#@title Licensed under the Apache License, Version 2.0 (the \"License\");\n",
    "# you may not use this file except in compliance with the License.\n",
    "# You may obtain a copy of the License at\n",
    "#\n",
    "# https://www.apache.org/licenses/LICENSE-2.0\n",
    "#\n",
    "# Unless required by applicable law or agreed to in writing, software\n",
    "# distributed under the License is distributed on an \"AS IS\" BASIS,\n",
    "# WITHOUT WARRANTIES OR CONDITIONS OF ANY KIND, either express or implied.\n",
    "# See the License for the specific language governing permissions and\n",
    "# limitations under the License."
   ]
  },
  {
   "cell_type": "markdown",
   "metadata": {
    "id": "L-U2ulrvAH-3"
   },
   "source": [
    "**Note:** This notebook can run using TensorFlow 2.5.0"
   ]
  },
  {
   "cell_type": "code",
   "execution_count": 2,
   "metadata": {
    "id": "D1J15Vh_1Jih"
   },
   "outputs": [],
   "source": [
    "#!pip install tensorflow==2.5.0"
   ]
  },
  {
   "cell_type": "code",
   "execution_count": 3,
   "metadata": {
    "id": "BOjujz601HcS"
   },
   "outputs": [
    {
     "name": "stdout",
     "output_type": "stream",
     "text": [
      "2.7.0\n"
     ]
    }
   ],
   "source": [
    "import tensorflow as tf\n",
    "import numpy as np\n",
    "import matplotlib.pyplot as plt\n",
    "print(tf.__version__)"
   ]
  },
  {
   "cell_type": "code",
   "execution_count": 4,
   "metadata": {
    "id": "Zswl7jRtGzkk"
   },
   "outputs": [],
   "source": [
    "def plot_series(time, series, format=\"-\", start=0, end=None):\n",
    "    plt.plot(time[start:end], series[start:end], format)\n",
    "    plt.xlabel(\"Time\")\n",
    "    plt.ylabel(\"Value\")\n",
    "    plt.grid(True)\n",
    "\n",
    "def trend(time, slope=0):\n",
    "    return slope * time\n",
    "\n",
    "def seasonal_pattern(season_time):\n",
    "    \"\"\"Just an arbitrary pattern, you can change it if you wish\"\"\"\n",
    "    return np.where(season_time < 0.4,\n",
    "                    np.cos(season_time * 2 * np.pi),\n",
    "                    1 / np.exp(3 * season_time))\n",
    "\n",
    "def seasonality(time, period, amplitude=1, phase=0):\n",
    "    \"\"\"Repeats the same pattern at each period\"\"\"\n",
    "    season_time = ((time + phase) % period) / period\n",
    "    return amplitude * seasonal_pattern(season_time)\n",
    "\n",
    "def noise(time, noise_level=1, seed=None):\n",
    "    rnd = np.random.RandomState(seed)\n",
    "    return rnd.randn(len(time)) * noise_level\n",
    "\n",
    "time = np.arange(4 * 365 + 1, dtype=\"float32\")\n",
    "baseline = 10\n",
    "series = trend(time, 0.1)  \n",
    "baseline = 10\n",
    "amplitude = 40\n",
    "slope = 0.05\n",
    "noise_level = 5\n",
    "\n",
    "# Create the series\n",
    "series = baseline + trend(time, slope) + seasonality(time, period=365, amplitude=amplitude)\n",
    "# Update with noise\n",
    "series += noise(time, noise_level, seed=42)\n",
    "\n",
    "split_time = 1000\n",
    "time_train = time[:split_time]\n",
    "x_train = series[:split_time]\n",
    "time_valid = time[split_time:]\n",
    "x_valid = series[split_time:]\n",
    "\n",
    "window_size = 20\n",
    "batch_size = 32\n",
    "shuffle_buffer_size = 1000"
   ]
  },
  {
   "cell_type": "code",
   "execution_count": 5,
   "metadata": {
    "id": "4sTTIOCbyShY"
   },
   "outputs": [],
   "source": [
    "def windowed_dataset(series, window_size, batch_size, shuffle_buffer):\n",
    "  dataset = tf.data.Dataset.from_tensor_slices(series)\n",
    "  dataset = dataset.window(window_size + 1, shift=1, drop_remainder=True)\n",
    "  dataset = dataset.flat_map(lambda window: window.batch(window_size + 1))\n",
    "  dataset = dataset.shuffle(shuffle_buffer).map(lambda window: (window[:-1], window[-1]))\n",
    "  dataset = dataset.batch(batch_size).prefetch(1)\n",
    "  return dataset"
   ]
  },
  {
   "cell_type": "code",
   "execution_count": 6,
   "metadata": {
    "id": "A1Hl39rklkLm"
   },
   "outputs": [
    {
     "name": "stdout",
     "output_type": "stream",
     "text": [
      "Epoch 1/100\n",
      "31/31 [==============================] - 9s 22ms/step - loss: 21.5167 - mae: 22.0115 - lr: 1.0000e-08\n",
      "Epoch 2/100\n",
      "31/31 [==============================] - 0s 10ms/step - loss: 21.1523 - mae: 21.6444 - lr: 1.1220e-08\n",
      "Epoch 3/100\n",
      "31/31 [==============================] - 0s 10ms/step - loss: 20.7303 - mae: 21.2237 - lr: 1.2589e-08\n",
      "Epoch 4/100\n",
      "31/31 [==============================] - 0s 15ms/step - loss: 20.2835 - mae: 20.7758 - lr: 1.4125e-08\n",
      "Epoch 5/100\n",
      "31/31 [==============================] - 0s 11ms/step - loss: 19.7898 - mae: 20.2856 - lr: 1.5849e-08148 - mae: 21\n",
      "Epoch 6/100\n",
      "31/31 [==============================] - 0s 10ms/step - loss: 19.1784 - mae: 19.6698 - lr: 1.7783e-08\n",
      "Epoch 7/100\n",
      "31/31 [==============================] - 0s 10ms/step - loss: 18.2414 - mae: 18.7338 - lr: 1.9953e-08\n",
      "Epoch 8/100\n",
      "31/31 [==============================] - 0s 10ms/step - loss: 17.4825 - mae: 17.9748 - lr: 2.2387e-08\n",
      "Epoch 9/100\n",
      "31/31 [==============================] - 0s 11ms/step - loss: 17.1598 - mae: 17.6529 - lr: 2.5119e-08\n",
      "Epoch 10/100\n",
      "31/31 [==============================] - 0s 11ms/step - loss: 16.8547 - mae: 17.3463 - lr: 2.8184e-08\n",
      "Epoch 11/100\n",
      "31/31 [==============================] - 0s 9ms/step - loss: 16.5533 - mae: 17.0471 - lr: 3.1623e-08\n",
      "Epoch 12/100\n",
      "31/31 [==============================] - 0s 8ms/step - loss: 16.2566 - mae: 16.7524 - lr: 3.5481e-08\n",
      "Epoch 13/100\n",
      "31/31 [==============================] - 0s 8ms/step - loss: 15.9629 - mae: 16.4598 - lr: 3.9811e-08\n",
      "Epoch 14/100\n",
      "31/31 [==============================] - 0s 8ms/step - loss: 15.6593 - mae: 16.1548 - lr: 4.4668e-08\n",
      "Epoch 15/100\n",
      "31/31 [==============================] - 0s 8ms/step - loss: 15.3713 - mae: 15.8652 - lr: 5.0119e-08\n",
      "Epoch 16/100\n",
      "31/31 [==============================] - 0s 9ms/step - loss: 15.0753 - mae: 15.5698 - lr: 5.6234e-08\n",
      "Epoch 17/100\n",
      "31/31 [==============================] - 0s 9ms/step - loss: 14.7905 - mae: 15.2869 - lr: 6.3096e-08\n",
      "Epoch 18/100\n",
      "31/31 [==============================] - 0s 11ms/step - loss: 14.5230 - mae: 15.0179 - lr: 7.0795e-08\n",
      "Epoch 19/100\n",
      "31/31 [==============================] - 0s 13ms/step - loss: 14.2707 - mae: 14.7636 - lr: 7.9433e-08\n",
      "Epoch 20/100\n",
      "31/31 [==============================] - 0s 11ms/step - loss: 14.0294 - mae: 14.5217 - lr: 8.9125e-08\n",
      "Epoch 21/100\n",
      "31/31 [==============================] - 0s 11ms/step - loss: 13.8191 - mae: 14.3135 - lr: 1.0000e-07\n",
      "Epoch 22/100\n",
      "31/31 [==============================] - 0s 12ms/step - loss: 13.6084 - mae: 14.1032 - lr: 1.1220e-07\n",
      "Epoch 23/100\n",
      "31/31 [==============================] - 0s 12ms/step - loss: 13.4096 - mae: 13.9038 - lr: 1.2589e-07\n",
      "Epoch 24/100\n",
      "31/31 [==============================] - 0s 12ms/step - loss: 13.1859 - mae: 13.6794 - lr: 1.4125e-07\n",
      "Epoch 25/100\n",
      "31/31 [==============================] - 0s 10ms/step - loss: 12.9819 - mae: 13.4747 - lr: 1.5849e-07\n",
      "Epoch 26/100\n",
      "31/31 [==============================] - 0s 9ms/step - loss: 12.7278 - mae: 13.2184 - lr: 1.7783e-07\n",
      "Epoch 27/100\n",
      "31/31 [==============================] - 0s 10ms/step - loss: 12.4886 - mae: 12.9799 - lr: 1.9953e-07\n",
      "Epoch 28/100\n",
      "31/31 [==============================] - 0s 10ms/step - loss: 12.3464 - mae: 12.8367 - lr: 2.2387e-07\n",
      "Epoch 29/100\n",
      "31/31 [==============================] - 0s 9ms/step - loss: 11.9129 - mae: 12.4020 - lr: 2.5119e-07\n",
      "Epoch 30/100\n",
      "31/31 [==============================] - 0s 10ms/step - loss: 11.5934 - mae: 12.0835 - lr: 2.8184e-07\n",
      "Epoch 31/100\n",
      "31/31 [==============================] - 0s 10ms/step - loss: 11.2861 - mae: 11.7774 - lr: 3.1623e-07\n",
      "Epoch 32/100\n",
      "31/31 [==============================] - 0s 10ms/step - loss: 11.3524 - mae: 11.8422 - lr: 3.5481e-07\n",
      "Epoch 33/100\n",
      "31/31 [==============================] - 0s 10ms/step - loss: 10.5203 - mae: 11.0110 - lr: 3.9811e-07\n",
      "Epoch 34/100\n",
      "31/31 [==============================] - 0s 9ms/step - loss: 10.6118 - mae: 11.0997 - lr: 4.4668e-07\n",
      "Epoch 35/100\n",
      "31/31 [==============================] - 0s 8ms/step - loss: 9.6138 - mae: 10.1024 - lr: 5.0119e-07\n",
      "Epoch 36/100\n",
      "31/31 [==============================] - 0s 9ms/step - loss: 9.7882 - mae: 10.2739 - lr: 5.6234e-07\n",
      "Epoch 37/100\n",
      "31/31 [==============================] - 0s 9ms/step - loss: 10.1484 - mae: 10.6380 - lr: 6.3096e-07\n",
      "Epoch 38/100\n",
      "31/31 [==============================] - 0s 9ms/step - loss: 9.6170 - mae: 10.1044 - lr: 7.0795e-07\n",
      "Epoch 39/100\n",
      "31/31 [==============================] - 0s 9ms/step - loss: 9.1477 - mae: 9.6319 - lr: 7.9433e-07\n",
      "Epoch 40/100\n",
      "31/31 [==============================] - 0s 10ms/step - loss: 8.7192 - mae: 9.2054 - lr: 8.9125e-07\n",
      "Epoch 41/100\n",
      "31/31 [==============================] - 0s 9ms/step - loss: 8.3073 - mae: 8.7922 - lr: 1.0000e-06\n",
      "Epoch 42/100\n",
      "31/31 [==============================] - 0s 11ms/step - loss: 7.9672 - mae: 8.4513 - lr: 1.1220e-06\n",
      "Epoch 43/100\n",
      "31/31 [==============================] - 0s 9ms/step - loss: 7.6419 - mae: 8.1267 - lr: 1.2589e-06\n",
      "Epoch 44/100\n",
      "31/31 [==============================] - 0s 10ms/step - loss: 7.3833 - mae: 7.8695 - lr: 1.4125e-06\n",
      "Epoch 45/100\n",
      "31/31 [==============================] - 0s 10ms/step - loss: 7.2052 - mae: 7.6888 - lr: 1.5849e-06\n",
      "Epoch 46/100\n",
      "31/31 [==============================] - 0s 9ms/step - loss: 6.9014 - mae: 7.3852 - lr: 1.7783e-06\n",
      "Epoch 47/100\n",
      "31/31 [==============================] - 0s 10ms/step - loss: 6.6842 - mae: 7.1679 - lr: 1.9953e-06\n",
      "Epoch 48/100\n",
      "31/31 [==============================] - 0s 10ms/step - loss: 6.5777 - mae: 7.0596 - lr: 2.2387e-06\n",
      "Epoch 49/100\n",
      "31/31 [==============================] - 0s 10ms/step - loss: 6.2124 - mae: 6.6888 - lr: 2.5119e-06\n",
      "Epoch 50/100\n",
      "31/31 [==============================] - 0s 10ms/step - loss: 6.0413 - mae: 6.5201 - lr: 2.8184e-06\n",
      "Epoch 51/100\n",
      "31/31 [==============================] - 0s 12ms/step - loss: 5.9113 - mae: 6.3887 - lr: 3.1623e-06\n",
      "Epoch 52/100\n",
      "31/31 [==============================] - 0s 11ms/step - loss: 5.7791 - mae: 6.2606 - lr: 3.5481e-06\n",
      "Epoch 53/100\n",
      "31/31 [==============================] - 0s 9ms/step - loss: 5.6323 - mae: 6.1126 - lr: 3.9811e-06\n",
      "Epoch 54/100\n",
      "31/31 [==============================] - 0s 9ms/step - loss: 5.5251 - mae: 5.9997 - lr: 4.4668e-06\n",
      "Epoch 55/100\n",
      "31/31 [==============================] - 0s 9ms/step - loss: 5.3999 - mae: 5.8714 - lr: 5.0119e-06\n",
      "Epoch 56/100\n",
      "31/31 [==============================] - 0s 9ms/step - loss: 5.5628 - mae: 6.0353 - lr: 5.6234e-06\n",
      "Epoch 57/100\n",
      "31/31 [==============================] - 0s 10ms/step - loss: 5.2908 - mae: 5.7688 - lr: 6.3096e-06\n",
      "Epoch 58/100\n",
      "31/31 [==============================] - 0s 9ms/step - loss: 5.2725 - mae: 5.7523 - lr: 7.0795e-06\n",
      "Epoch 59/100\n",
      "31/31 [==============================] - 0s 9ms/step - loss: 5.1299 - mae: 5.6088 - lr: 7.9433e-06\n",
      "Epoch 60/100\n",
      "31/31 [==============================] - 0s 9ms/step - loss: 5.0455 - mae: 5.5180 - lr: 8.9125e-06\n",
      "Epoch 61/100\n",
      "31/31 [==============================] - 0s 9ms/step - loss: 5.3085 - mae: 5.7853 - lr: 1.0000e-05\n",
      "Epoch 62/100\n",
      "31/31 [==============================] - 0s 9ms/step - loss: 5.2069 - mae: 5.6863 - lr: 1.1220e-05\n",
      "Epoch 63/100\n",
      "31/31 [==============================] - 0s 9ms/step - loss: 5.1336 - mae: 5.6101 - lr: 1.2589e-05\n",
      "Epoch 64/100\n",
      "31/31 [==============================] - 0s 9ms/step - loss: 4.8515 - mae: 5.3253 - lr: 1.4125e-05\n",
      "Epoch 65/100\n",
      "31/31 [==============================] - 0s 9ms/step - loss: 5.0932 - mae: 5.5766 - lr: 1.5849e-05\n",
      "Epoch 66/100\n",
      "31/31 [==============================] - 0s 10ms/step - loss: 5.3957 - mae: 5.8782 - lr: 1.7783e-05\n",
      "Epoch 67/100\n",
      "31/31 [==============================] - 0s 11ms/step - loss: 5.9773 - mae: 6.4592 - lr: 1.9953e-05\n",
      "Epoch 68/100\n",
      "31/31 [==============================] - 0s 11ms/step - loss: 5.3114 - mae: 5.7902 - lr: 2.2387e-05\n",
      "Epoch 69/100\n",
      "31/31 [==============================] - 0s 12ms/step - loss: 5.4234 - mae: 5.9061 - lr: 2.5119e-05\n",
      "Epoch 70/100\n",
      "31/31 [==============================] - 0s 12ms/step - loss: 4.9435 - mae: 5.4225 - lr: 2.8184e-05\n",
      "Epoch 71/100\n",
      "31/31 [==============================] - 0s 11ms/step - loss: 5.8866 - mae: 6.3681 - lr: 3.1623e-05\n",
      "Epoch 72/100\n",
      "31/31 [==============================] - 0s 11ms/step - loss: 6.0700 - mae: 6.5537 - lr: 3.5481e-05\n",
      "Epoch 73/100\n",
      "31/31 [==============================] - 0s 10ms/step - loss: 5.6812 - mae: 6.1589 - lr: 3.9811e-05\n",
      "Epoch 74/100\n",
      "31/31 [==============================] - 0s 10ms/step - loss: 4.7713 - mae: 5.2476 - lr: 4.4668e-05\n",
      "Epoch 75/100\n",
      "31/31 [==============================] - 0s 9ms/step - loss: 5.7227 - mae: 6.2052 - lr: 5.0119e-05\n",
      "Epoch 76/100\n",
      "31/31 [==============================] - 0s 9ms/step - loss: 5.4326 - mae: 5.9160 - lr: 5.6234e-05\n",
      "Epoch 77/100\n",
      "31/31 [==============================] - 0s 9ms/step - loss: 6.8742 - mae: 7.3580 - lr: 6.3096e-05\n",
      "Epoch 78/100\n",
      "31/31 [==============================] - 0s 9ms/step - loss: 5.4550 - mae: 5.9341 - lr: 7.0795e-05\n",
      "Epoch 79/100\n",
      "31/31 [==============================] - 0s 9ms/step - loss: 5.7175 - mae: 6.2018 - lr: 7.9433e-05\n",
      "Epoch 80/100\n",
      "31/31 [==============================] - 0s 10ms/step - loss: 5.3819 - mae: 5.8627 - lr: 8.9125e-05\n",
      "Epoch 81/100\n",
      "31/31 [==============================] - 0s 10ms/step - loss: 6.6573 - mae: 7.1423 - lr: 1.0000e-04\n",
      "Epoch 82/100\n",
      "31/31 [==============================] - 0s 11ms/step - loss: 6.4790 - mae: 6.9642 - lr: 1.1220e-04\n",
      "Epoch 83/100\n",
      "31/31 [==============================] - 0s 11ms/step - loss: 5.9714 - mae: 6.4514 - lr: 1.2589e-04\n",
      "Epoch 84/100\n",
      "31/31 [==============================] - 0s 10ms/step - loss: 6.1350 - mae: 6.6197 - lr: 1.4125e-04\n",
      "Epoch 85/100\n",
      "31/31 [==============================] - 0s 9ms/step - loss: 6.1720 - mae: 6.6542 - lr: 1.5849e-04\n",
      "Epoch 86/100\n",
      "31/31 [==============================] - 0s 9ms/step - loss: 7.0814 - mae: 7.5663 - lr: 1.7783e-04\n",
      "Epoch 87/100\n",
      "31/31 [==============================] - 0s 10ms/step - loss: 7.2157 - mae: 7.7013 - lr: 1.9953e-04\n",
      "Epoch 88/100\n",
      "31/31 [==============================] - 0s 10ms/step - loss: 7.0855 - mae: 7.5717 - lr: 2.2387e-04\n",
      "Epoch 89/100\n",
      "31/31 [==============================] - 0s 9ms/step - loss: 7.4598 - mae: 7.9474 - lr: 2.5119e-04\n",
      "Epoch 90/100\n",
      "31/31 [==============================] - 0s 11ms/step - loss: 10.8427 - mae: 11.3372 - lr: 2.8184e-04\n",
      "Epoch 91/100\n",
      "31/31 [==============================] - 0s 10ms/step - loss: 6.4591 - mae: 6.9439 - lr: 3.1623e-04\n",
      "Epoch 92/100\n",
      "31/31 [==============================] - 0s 10ms/step - loss: 8.6667 - mae: 9.1546 - lr: 3.5481e-04\n",
      "Epoch 93/100\n",
      "31/31 [==============================] - 0s 9ms/step - loss: 10.8038 - mae: 11.2941 - lr: 3.9811e-04\n",
      "Epoch 94/100\n",
      "31/31 [==============================] - 0s 9ms/step - loss: 13.2376 - mae: 13.7293 - lr: 4.4668e-04\n",
      "Epoch 95/100\n",
      "31/31 [==============================] - 0s 10ms/step - loss: 10.4896 - mae: 10.9794 - lr: 5.0119e-04\n",
      "Epoch 96/100\n",
      "31/31 [==============================] - 0s 9ms/step - loss: 11.6822 - mae: 12.1736 - lr: 5.6234e-04\n",
      "Epoch 97/100\n",
      "31/31 [==============================] - 0s 9ms/step - loss: 11.4819 - mae: 11.9715 - lr: 6.3096e-04\n",
      "Epoch 98/100\n",
      "31/31 [==============================] - 0s 9ms/step - loss: 11.3338 - mae: 11.8261 - lr: 7.0795e-04\n",
      "Epoch 99/100\n",
      "31/31 [==============================] - 0s 9ms/step - loss: 10.5719 - mae: 11.0630 - lr: 7.9433e-04\n",
      "Epoch 100/100\n",
      "31/31 [==============================] - 0s 9ms/step - loss: 14.3232 - mae: 14.8148 - lr: 8.9125e-04\n"
     ]
    }
   ],
   "source": [
    "tf.keras.backend.clear_session()\n",
    "tf.random.set_seed(51)\n",
    "np.random.seed(51)\n",
    "\n",
    "tf.keras.backend.clear_session()\n",
    "dataset = windowed_dataset(x_train, window_size, batch_size, shuffle_buffer_size)\n",
    "\n",
    "model = tf.keras.models.Sequential([\n",
    "  tf.keras.layers.Lambda(lambda x: tf.expand_dims(x, axis=-1),\n",
    "                      input_shape=[None]),\n",
    "    tf.keras.layers.Bidirectional(tf.keras.layers.LSTM(32, return_sequences=True)),\n",
    "  tf.keras.layers.Bidirectional(tf.keras.layers.LSTM(32)),\n",
    "  tf.keras.layers.Dense(1),\n",
    "  tf.keras.layers.Lambda(lambda x: x * 100.0)\n",
    "])\n",
    "\n",
    "lr_schedule = tf.keras.callbacks.LearningRateScheduler(\n",
    "    lambda epoch: 1e-8 * 10**(epoch / 20))\n",
    "optimizer = tf.keras.optimizers.SGD(learning_rate=1e-8, momentum=0.9)\n",
    "model.compile(loss=tf.keras.losses.Huber(),\n",
    "              optimizer=optimizer,\n",
    "              metrics=[\"mae\"])\n",
    "history = model.fit(dataset, epochs=100, callbacks=[lr_schedule])"
   ]
  },
  {
   "cell_type": "code",
   "execution_count": 7,
   "metadata": {
    "id": "AkBsrsXMzoWR"
   },
   "outputs": [
    {
     "data": {
      "text/plain": [
       "(1e-08, 0.0001, 0.0, 30.0)"
      ]
     },
     "execution_count": 7,
     "metadata": {},
     "output_type": "execute_result"
    },
    {
     "data": {
      "image/png": "[encoded data removed]",
      "text/plain": [
       "<Figure size 432x288 with 1 Axes>"
      ]
     },
     "metadata": {
      "needs_background": "light"
     },
     "output_type": "display_data"
    }
   ],
   "source": [
    "plt.semilogx(history.history[\"lr\"], history.history[\"loss\"])\n",
    "plt.axis([1e-8, 1e-4, 0, 30])"
   ]
  },
  {
   "cell_type": "code",
   "execution_count": 8,
   "metadata": {
    "id": "4uh-97bpLZCA"
   },
   "outputs": [],
   "source": [
    "# This code block will take some time to run.\n",
    "# But it will run in the background, without displaying/printing \n",
    "# the information about the number of epochs.\n",
    "\n",
    "\n",
    "tf.keras.backend.clear_session()\n",
    "tf.random.set_seed(51)\n",
    "np.random.seed(51)\n",
    "\n",
    "tf.keras.backend.clear_session()\n",
    "dataset = windowed_dataset(x_train, window_size, batch_size, shuffle_buffer_size)\n",
    "\n",
    "model = tf.keras.models.Sequential([\n",
    "  tf.keras.layers.Lambda(lambda x: tf.expand_dims(x, axis=-1),\n",
    "                      input_shape=[None]),\n",
    "   tf.keras.layers.Bidirectional(tf.keras.layers.LSTM(32, return_sequences=True)),\n",
    "  tf.keras.layers.Bidirectional(tf.keras.layers.LSTM(32)),\n",
    "  tf.keras.layers.Dense(1),\n",
    "  tf.keras.layers.Lambda(lambda x: x * 100.0)\n",
    "])\n",
    "\n",
    "\n",
    "model.compile(loss=\"mse\", optimizer=tf.keras.optimizers.SGD(learning_rate=1e-5, momentum=0.9),metrics=[\"mae\"])\n",
    "history = model.fit(dataset,epochs=500,verbose=0)"
   ]
  },
  {
   "cell_type": "code",
   "execution_count": 9,
   "metadata": {
    "id": "icGDaND7z0ne"
   },
   "outputs": [
    {
     "data": {
      "image/png": "[encoded data removed]",
      "text/plain": [
       "<Figure size 720x432 with 1 Axes>"
      ]
     },
     "metadata": {
      "needs_background": "light"
     },
     "output_type": "display_data"
    }
   ],
   "source": [
    "forecast = []\n",
    "results = []\n",
    "for time in range(len(series) - window_size):\n",
    "  forecast.append(model.predict(series[time:time + window_size][np.newaxis]))\n",
    "\n",
    "forecast = forecast[split_time-window_size:]\n",
    "results = np.array(forecast)[:, 0, 0]\n",
    "\n",
    "\n",
    "plt.figure(figsize=(10, 6))\n",
    "\n",
    "plot_series(time_valid, x_valid)\n",
    "plot_series(time_valid, results)"
   ]
  },
  {
   "cell_type": "code",
   "execution_count": 10,
   "metadata": {
    "id": "KfPeqI7rz4LD"
   },
   "outputs": [
    {
     "data": {
      "text/plain": [
       "5.5458975"
      ]
     },
     "execution_count": 10,
     "metadata": {},
     "output_type": "execute_result"
    }
   ],
   "source": [
    "tf.keras.metrics.mean_absolute_error(x_valid, results).numpy()"
   ]
  },
  {
   "cell_type": "code",
   "execution_count": 11,
   "metadata": {
    "id": "JUsdZB_tzDLe"
   },
   "outputs": [
    {
     "data": {
      "text/plain": [
       "<Figure size 432x288 with 0 Axes>"
      ]
     },
     "execution_count": 11,
     "metadata": {},
     "output_type": "execute_result"
    },
    {
     "data": {
      "image/png": "[encoded data removed]",
      "text/plain": [
       "<Figure size 432x288 with 1 Axes>"
      ]
     },
     "metadata": {
      "needs_background": "light"
     },
     "output_type": "display_data"
    },
    {
     "data": {
      "image/png": "[encoded data removed]",
      "text/plain": [
       "<Figure size 432x288 with 1 Axes>"
      ]
     },
     "metadata": {
      "needs_background": "light"
     },
     "output_type": "display_data"
    },
    {
     "data": {
      "text/plain": [
       "<Figure size 432x288 with 0 Axes>"
      ]
     },
     "metadata": {},
     "output_type": "display_data"
    }
   ],
   "source": [
    "import matplotlib.image  as mpimg\n",
    "import matplotlib.pyplot as plt\n",
    "\n",
    "#-----------------------------------------------------------\n",
    "# Retrieve a list of list results on training and test data\n",
    "# sets for each training epoch\n",
    "#-----------------------------------------------------------\n",
    "mae=history.history['mae']\n",
    "loss=history.history['loss']\n",
    "\n",
    "epochs=range(len(loss)) # Get number of epochs\n",
    "\n",
    "#------------------------------------------------\n",
    "# Plot MAE and Loss\n",
    "#------------------------------------------------\n",
    "plt.plot(epochs, mae, 'r')\n",
    "plt.plot(epochs, loss, 'b')\n",
    "plt.title('MAE and Loss')\n",
    "plt.xlabel(\"Epochs\")\n",
    "plt.ylabel(\"Accuracy\")\n",
    "plt.legend([\"MAE\", \"Loss\"])\n",
    "\n",
    "plt.figure()\n",
    "\n",
    "epochs_zoom = epochs[200:]\n",
    "mae_zoom = mae[200:]\n",
    "loss_zoom = loss[200:]\n",
    "\n",
    "#------------------------------------------------\n",
    "# Plot Zoomed MAE and Loss\n",
    "#------------------------------------------------\n",
    "plt.plot(epochs_zoom, mae_zoom, 'r')\n",
    "plt.plot(epochs_zoom, loss_zoom, 'b')\n",
    "plt.title('MAE and Loss')\n",
    "plt.xlabel(\"Epochs\")\n",
    "plt.ylabel(\"Accuracy\")\n",
    "plt.legend([\"MAE\", \"Loss\"])\n",
    "\n",
    "plt.figure()"
   ]
  },
  {
   "cell_type": "code",
   "execution_count": 12,
   "metadata": {
    "id": "3CGaYFxXNEAK"
   },
   "outputs": [
    {
     "data": {
      "text/plain": [
       "<keras.callbacks.History at 0x1e955350c40>"
      ]
     },
     "execution_count": 12,
     "metadata": {},
     "output_type": "execute_result"
    }
   ],
   "source": [
    "# This code block will take some time to run.\n",
    "# But it will run in the background, without displaying/printing \n",
    "# the information about the number of epochs.\n",
    "\n",
    "tf.keras.backend.clear_session()\n",
    "dataset = windowed_dataset(x_train, window_size, batch_size, shuffle_buffer_size)\n",
    "\n",
    "model = tf.keras.models.Sequential([\n",
    "  tf.keras.layers.Lambda(lambda x: tf.expand_dims(x, axis=-1),\n",
    "                      input_shape=[None]),\n",
    "  tf.keras.layers.Bidirectional(tf.keras.layers.LSTM(32, return_sequences=True)),\n",
    "  tf.keras.layers.Bidirectional(tf.keras.layers.LSTM(32)),\n",
    "  tf.keras.layers.Dense(1),\n",
    "  tf.keras.layers.Lambda(lambda x: x * 100.0)\n",
    "])\n",
    "\n",
    "\n",
    "model.compile(loss=\"mse\", optimizer=tf.keras.optimizers.SGD(learning_rate=1e-6, momentum=0.9))\n",
    "model.fit(dataset,epochs=100, verbose=0)"
   ]
  },
  {
   "cell_type": "code",
   "execution_count": 13,
   "metadata": {
    "id": "FJ3R8ysauz9e"
   },
   "outputs": [
    {
     "name": "stdout",
     "output_type": "stream",
     "text": [
      "Epoch 1/100\n",
      "31/31 [==============================] - 14s 42ms/step - loss: 755.7073\n",
      "Epoch 2/100\n",
      "31/31 [==============================] - 1s 16ms/step - loss: 152.7712\n",
      "Epoch 3/100\n",
      "31/31 [==============================] - 1s 17ms/step - loss: 97.9787\n",
      "Epoch 4/100\n",
      "31/31 [==============================] - 1s 16ms/step - loss: 83.2925\n",
      "Epoch 5/100\n",
      "31/31 [==============================] - 1s 16ms/step - loss: 78.2603\n",
      "Epoch 6/100\n",
      "31/31 [==============================] - 1s 16ms/step - loss: 73.4343\n",
      "Epoch 7/100\n",
      "31/31 [==============================] - 1s 16ms/step - loss: 67.8622\n",
      "Epoch 8/100\n",
      "31/31 [==============================] - 1s 17ms/step - loss: 74.5334\n",
      "Epoch 9/100\n",
      "31/31 [==============================] - 1s 17ms/step - loss: 73.1408\n",
      "Epoch 10/100\n",
      "31/31 [==============================] - 1s 19ms/step - loss: 63.4797\n",
      "Epoch 11/100\n",
      "31/31 [==============================] - 1s 19ms/step - loss: 60.9723\n",
      "Epoch 12/100\n",
      "31/31 [==============================] - 1s 19ms/step - loss: 57.7013\n",
      "Epoch 13/100\n",
      "31/31 [==============================] - 1s 19ms/step - loss: 62.4453\n",
      "Epoch 14/100\n",
      "31/31 [==============================] - 1s 19ms/step - loss: 56.6487\n",
      "Epoch 15/100\n",
      "31/31 [==============================] - 1s 17ms/step - loss: 53.2311\n",
      "Epoch 16/100\n",
      "31/31 [==============================] - 1s 16ms/step - loss: 65.0511\n",
      "Epoch 17/100\n",
      "31/31 [==============================] - 1s 17ms/step - loss: 58.6703\n",
      "Epoch 18/100\n",
      "31/31 [==============================] - 1s 16ms/step - loss: 60.0714\n",
      "Epoch 19/100\n",
      "31/31 [==============================] - 1s 16ms/step - loss: 56.1988\n",
      "Epoch 20/100\n",
      "31/31 [==============================] - 1s 17ms/step - loss: 55.7765\n",
      "Epoch 21/100\n",
      "31/31 [==============================] - 1s 17ms/step - loss: 51.2663\n",
      "Epoch 22/100\n",
      "31/31 [==============================] - 1s 17ms/step - loss: 54.9537\n",
      "Epoch 23/100\n",
      "31/31 [==============================] - 1s 16ms/step - loss: 51.5521\n",
      "Epoch 24/100\n",
      "31/31 [==============================] - 1s 17ms/step - loss: 55.4739\n",
      "Epoch 25/100\n",
      "31/31 [==============================] - 1s 16ms/step - loss: 48.4545\n",
      "Epoch 26/100\n",
      "31/31 [==============================] - 1s 16ms/step - loss: 54.2098\n",
      "Epoch 27/100\n",
      "31/31 [==============================] - 1s 17ms/step - loss: 54.4586\n",
      "Epoch 28/100\n",
      "31/31 [==============================] - 1s 17ms/step - loss: 54.1891\n",
      "Epoch 29/100\n",
      "31/31 [==============================] - 1s 18ms/step - loss: 48.2898\n",
      "Epoch 30/100\n",
      "31/31 [==============================] - 1s 18ms/step - loss: 49.6816\n",
      "Epoch 31/100\n",
      "31/31 [==============================] - 1s 17ms/step - loss: 53.0409\n",
      "Epoch 32/100\n",
      "31/31 [==============================] - 1s 16ms/step - loss: 56.4056\n",
      "Epoch 33/100\n",
      "31/31 [==============================] - 1s 18ms/step - loss: 47.9185\n",
      "Epoch 34/100\n",
      "31/31 [==============================] - 1s 18ms/step - loss: 50.2059\n",
      "Epoch 35/100\n",
      "31/31 [==============================] - 1s 17ms/step - loss: 48.2363\n",
      "Epoch 36/100\n",
      "31/31 [==============================] - 1s 17ms/step - loss: 47.5864\n",
      "Epoch 37/100\n",
      "31/31 [==============================] - 1s 16ms/step - loss: 53.0277\n",
      "Epoch 38/100\n",
      "31/31 [==============================] - 1s 17ms/step - loss: 47.7114\n",
      "Epoch 39/100\n",
      "31/31 [==============================] - 1s 16ms/step - loss: 47.2855\n",
      "Epoch 40/100\n",
      "31/31 [==============================] - 1s 17ms/step - loss: 48.6497\n",
      "Epoch 41/100\n",
      "31/31 [==============================] - 1s 17ms/step - loss: 46.0400\n",
      "Epoch 42/100\n",
      "31/31 [==============================] - 1s 17ms/step - loss: 49.4834\n",
      "Epoch 43/100\n",
      "31/31 [==============================] - 1s 19ms/step - loss: 48.2802\n",
      "Epoch 44/100\n",
      "31/31 [==============================] - 1s 21ms/step - loss: 51.2784\n",
      "Epoch 45/100\n",
      "31/31 [==============================] - 1s 19ms/step - loss: 48.2854\n",
      "Epoch 46/100\n",
      "31/31 [==============================] - 1s 20ms/step - loss: 51.8336\n",
      "Epoch 47/100\n",
      "31/31 [==============================] - 1s 16ms/step - loss: 49.9786\n",
      "Epoch 48/100\n",
      "31/31 [==============================] - 1s 17ms/step - loss: 45.3259\n",
      "Epoch 49/100\n",
      "31/31 [==============================] - 1s 18ms/step - loss: 45.0659\n",
      "Epoch 50/100\n",
      "31/31 [==============================] - 1s 19ms/step - loss: 45.8860\n",
      "Epoch 51/100\n",
      "31/31 [==============================] - 1s 20ms/step - loss: 49.2066\n",
      "Epoch 52/100\n",
      "31/31 [==============================] - 1s 19ms/step - loss: 50.4163\n",
      "Epoch 53/100\n",
      "31/31 [==============================] - 1s 20ms/step - loss: 50.7207\n",
      "Epoch 54/100\n",
      "31/31 [==============================] - 1s 18ms/step - loss: 44.6056\n",
      "Epoch 55/100\n",
      "31/31 [==============================] - 1s 18ms/step - loss: 47.2973\n",
      "Epoch 56/100\n",
      "31/31 [==============================] - 1s 17ms/step - loss: 46.8538\n",
      "Epoch 57/100\n",
      "31/31 [==============================] - 1s 17ms/step - loss: 46.1009\n",
      "Epoch 58/100\n",
      "31/31 [==============================] - 1s 16ms/step - loss: 45.2358\n",
      "Epoch 59/100\n",
      "31/31 [==============================] - 1s 17ms/step - loss: 45.4362\n",
      "Epoch 60/100\n",
      "31/31 [==============================] - 1s 16ms/step - loss: 46.3395\n",
      "Epoch 61/100\n",
      "31/31 [==============================] - 1s 38ms/step - loss: 46.9668\n",
      "Epoch 62/100\n",
      "31/31 [==============================] - 1s 19ms/step - loss: 46.5631\n",
      "Epoch 63/100\n",
      "31/31 [==============================] - 1s 19ms/step - loss: 45.2371\n",
      "Epoch 64/100\n",
      "31/31 [==============================] - 1s 20ms/step - loss: 45.0071\n",
      "Epoch 65/100\n",
      "31/31 [==============================] - 1s 20ms/step - loss: 44.2405\n",
      "Epoch 66/100\n",
      "31/31 [==============================] - 1s 19ms/step - loss: 43.7101\n",
      "Epoch 67/100\n",
      "31/31 [==============================] - 1s 19ms/step - loss: 44.6066\n",
      "Epoch 68/100\n",
      "31/31 [==============================] - 1s 19ms/step - loss: 48.9804\n",
      "Epoch 69/100\n",
      "31/31 [==============================] - 1s 19ms/step - loss: 49.3747\n",
      "Epoch 70/100\n",
      "31/31 [==============================] - 1s 18ms/step - loss: 48.0137\n",
      "Epoch 71/100\n",
      "31/31 [==============================] - 1s 19ms/step - loss: 43.7244\n",
      "Epoch 72/100\n",
      "31/31 [==============================] - 1s 19ms/step - loss: 46.3200\n",
      "Epoch 73/100\n",
      "31/31 [==============================] - 1s 17ms/step - loss: 45.2361\n",
      "Epoch 74/100\n",
      "31/31 [==============================] - 1s 16ms/step - loss: 43.9390\n",
      "Epoch 75/100\n",
      "31/31 [==============================] - 1s 16ms/step - loss: 45.4739\n",
      "Epoch 76/100\n",
      "31/31 [==============================] - 1s 16ms/step - loss: 46.0976\n",
      "Epoch 77/100\n",
      "31/31 [==============================] - 1s 18ms/step - loss: 45.5516\n",
      "Epoch 78/100\n",
      "31/31 [==============================] - 1s 19ms/step - loss: 44.7748\n",
      "Epoch 79/100\n",
      "31/31 [==============================] - 1s 17ms/step - loss: 44.7596\n",
      "Epoch 80/100\n",
      "31/31 [==============================] - 1s 18ms/step - loss: 51.3422\n",
      "Epoch 81/100\n",
      "31/31 [==============================] - 1s 18ms/step - loss: 53.4171\n",
      "Epoch 82/100\n",
      "31/31 [==============================] - 1s 19ms/step - loss: 45.4833\n",
      "Epoch 83/100\n",
      "31/31 [==============================] - 1s 18ms/step - loss: 45.8875\n",
      "Epoch 84/100\n",
      "31/31 [==============================] - 1s 15ms/step - loss: 46.3768\n",
      "Epoch 85/100\n",
      "31/31 [==============================] - 1s 17ms/step - loss: 44.9507\n",
      "Epoch 86/100\n",
      "31/31 [==============================] - 1s 19ms/step - loss: 43.7670\n",
      "Epoch 87/100\n",
      "31/31 [==============================] - 1s 21ms/step - loss: 51.7505\n",
      "Epoch 88/100\n",
      "31/31 [==============================] - 1s 20ms/step - loss: 46.2331\n",
      "Epoch 89/100\n",
      "31/31 [==============================] - 1s 19ms/step - loss: 48.7270\n",
      "Epoch 90/100\n",
      "31/31 [==============================] - 1s 19ms/step - loss: 45.3596\n",
      "Epoch 91/100\n",
      "31/31 [==============================] - 1s 20ms/step - loss: 53.3697\n",
      "Epoch 92/100\n",
      "31/31 [==============================] - 1s 17ms/step - loss: 44.1391\n",
      "Epoch 93/100\n",
      "31/31 [==============================] - 1s 16ms/step - loss: 43.6143\n",
      "Epoch 94/100\n",
      "31/31 [==============================] - 1s 17ms/step - loss: 46.2346\n",
      "Epoch 95/100\n",
      "31/31 [==============================] - 1s 17ms/step - loss: 44.8038\n",
      "Epoch 96/100\n",
      "31/31 [==============================] - 1s 17ms/step - loss: 44.4870\n",
      "Epoch 97/100\n",
      "31/31 [==============================] - 1s 17ms/step - loss: 44.1545\n",
      "Epoch 98/100\n",
      "31/31 [==============================] - 1s 17ms/step - loss: 44.8092\n",
      "Epoch 99/100\n",
      "31/31 [==============================] - 1s 16ms/step - loss: 45.3488\n",
      "Epoch 100/100\n",
      "31/31 [==============================] - 1s 17ms/step - loss: 46.9552\n"
     ]
    },
    {
     "data": {
      "text/plain": [
       "<keras.callbacks.History at 0x1e95d3208b0>"
      ]
     },
     "execution_count": 13,
     "metadata": {},
     "output_type": "execute_result"
    }
   ],
   "source": [
    "tf.keras.backend.clear_session()\n",
    "dataset = windowed_dataset(x_train, window_size, batch_size, shuffle_buffer_size)\n",
    "\n",
    "model = tf.keras.models.Sequential([\n",
    "  tf.keras.layers.Lambda(lambda x: tf.expand_dims(x, axis=-1),\n",
    "                      input_shape=[None]),\n",
    "  tf.keras.layers.Bidirectional(tf.keras.layers.LSTM(32, return_sequences=True)),\n",
    "  tf.keras.layers.Bidirectional(tf.keras.layers.LSTM(32, return_sequences=True)),\n",
    "  tf.keras.layers.Bidirectional(tf.keras.layers.LSTM(32)),\n",
    "  tf.keras.layers.Dense(1),\n",
    "  tf.keras.layers.Lambda(lambda x: x * 100.0)\n",
    "])\n",
    "\n",
    "\n",
    "model.compile(loss=\"mse\", optimizer=tf.keras.optimizers.SGD(learning_rate=1e-6, momentum=0.9))\n",
    "model.fit(dataset,epochs=100)"
   ]
  }
 ],
 "metadata": {
  "accelerator": "GPU",
  "colab": {
   "collapsed_sections": [],
   "include_colab_link": true,
   "name": "C4_W3_Lab_2_LSTM.ipynb",
   "provenance": [],
   "toc_visible": true
  },
  "kernelspec": {
   "display_name": "tensorflow-course",
   "language": "python",
   "name": "tensorflow-course"
  },
  "language_info": {
   "codemirror_mode": {
    "name": "ipython",
    "version": 3
   },
   "file_extension": ".py",
   "mimetype": "text/x-python",
   "name": "python",
   "nbconvert_exporter": "python",
   "pygments_lexer": "ipython3",
   "version": "3.9.7"
  }
 },
 "nbformat": 4,
 "nbformat_minor": 4
}

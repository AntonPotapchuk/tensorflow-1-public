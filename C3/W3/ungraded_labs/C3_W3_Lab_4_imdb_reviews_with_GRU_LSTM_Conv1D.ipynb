{
 "cells": [
  {
   "cell_type": "markdown",
   "metadata": {
    "colab_type": "text",
    "id": "view-in-github"
   },
   "source": [
    "<a href=\"https://colab.research.google.com/github/https-deeplearning-ai/tensorflow-1-public/blob/adding_C3/C3/W3/ungraded_labs/C3_W3_Lab_4_imdb_reviews_with_GRU_LSTM_Conv1D.ipynb\" target=\"_parent\"><img src=\"https://colab.research.google.com/assets/colab-badge.svg\" alt=\"Open In Colab\"/></a>"
   ]
  },
  {
   "cell_type": "code",
   "execution_count": 10,
   "metadata": {
    "id": "zX4Kg8DUTKWO"
   },
   "outputs": [],
   "source": [
    "#@title Licensed under the Apache License, Version 2.0 (the \"License\");\n",
    "# you may not use this file except in compliance with the License.\n",
    "# You may obtain a copy of the License at\n",
    "#\n",
    "# https://www.apache.org/licenses/LICENSE-2.0\n",
    "#\n",
    "# Unless required by applicable law or agreed to in writing, software\n",
    "# distributed under the License is distributed on an \"AS IS\" BASIS,\n",
    "# WITHOUT WARRANTIES OR CONDITIONS OF ANY KIND, either express or implied.\n",
    "# See the License for the specific language governing permissions and\n",
    "# limitations under the License."
   ]
  },
  {
   "cell_type": "markdown",
   "metadata": {
    "id": "e7LTWrXvT6LK"
   },
   "source": [
    "**Note:** This notebook can run using TensorFlow 2.5.0"
   ]
  },
  {
   "cell_type": "code",
   "execution_count": 2,
   "metadata": {
    "id": "I6NpdaKzT6LK"
   },
   "outputs": [],
   "source": [
    "#!pip install tensorflow==2.5.0"
   ]
  },
  {
   "cell_type": "code",
   "execution_count": 1,
   "metadata": {
    "id": "P-AhVYeBWgQ3"
   },
   "outputs": [
    {
     "name": "stdout",
     "output_type": "stream",
     "text": [
      "2.7.0\n"
     ]
    }
   ],
   "source": [
    "import tensorflow as tf\n",
    "print(tf.__version__)\n",
    "\n",
    "# !pip install -q tensorflow-datasets\n",
    "\n",
    "import tensorflow_datasets as tfds\n",
    "imdb, info = tfds.load(\"imdb_reviews\", with_info=True, as_supervised=True)\n"
   ]
  },
  {
   "cell_type": "code",
   "execution_count": 11,
   "metadata": {
    "id": "wHQ2Ko0zl7M4"
   },
   "outputs": [],
   "source": [
    "import numpy as np\n",
    "\n",
    "train_data, test_data = imdb['train'], imdb['test']\n",
    "\n",
    "training_sentences = []\n",
    "training_labels = []\n",
    "\n",
    "testing_sentences = []\n",
    "testing_labels = []\n",
    "\n",
    "# str(s.tonumpy()) is needed in Python3 instead of just s.numpy()\n",
    "for s,l in train_data:\n",
    "    training_sentences.append(str(s.numpy()))\n",
    "    training_labels.append(l.numpy())\n",
    "\n",
    "for s,l in test_data:\n",
    "    testing_sentences.append(str(s.numpy()))\n",
    "    testing_labels.append(l.numpy())\n",
    "\n",
    "training_labels_final = np.array(training_labels)\n",
    "testing_labels_final = np.array(testing_labels)\n"
   ]
  },
  {
   "cell_type": "code",
   "execution_count": 12,
   "metadata": {
    "id": "7n15yyMdmoH1"
   },
   "outputs": [],
   "source": [
    "vocab_size = 10000\n",
    "embedding_dim = 16\n",
    "max_length = 120\n",
    "trunc_type='post'\n",
    "oov_tok = \"<OOV>\"\n",
    "\n",
    "\n",
    "from tensorflow.keras.preprocessing.text import Tokenizer\n",
    "from tensorflow.keras.preprocessing.sequence import pad_sequences\n",
    "\n",
    "tokenizer = Tokenizer(num_words = vocab_size, oov_token=oov_tok)\n",
    "tokenizer.fit_on_texts(training_sentences)\n",
    "word_index = tokenizer.word_index\n",
    "sequences = tokenizer.texts_to_sequences(training_sentences)\n",
    "padded = pad_sequences(sequences,maxlen=max_length, truncating=trunc_type)\n",
    "\n",
    "testing_sequences = tokenizer.texts_to_sequences(testing_sentences)\n",
    "testing_padded = pad_sequences(testing_sequences,maxlen=max_length)\n"
   ]
  },
  {
   "cell_type": "code",
   "execution_count": 13,
   "metadata": {
    "id": "9axf0uIXVMhO"
   },
   "outputs": [
    {
     "name": "stdout",
     "output_type": "stream",
     "text": [
      "? ? ? ? ? ? ? b'i have been known to fall asleep during films but this is usually due to a combination of things including really tired being warm and comfortable on the <OOV> and having just eaten a lot however on this occasion i fell asleep because the film was rubbish the plot development was constant constantly slow and boring things seemed to happen but with no explanation of what was causing them or why i admit i may have missed part of the film but i watched the majority of it and everything just seemed to happen of its own <OOV> without any real concern for anything else i cant recommend this film at all '\n",
      "b'I have been known to fall asleep during films, but this is usually due to a combination of things including, really tired, being warm and comfortable on the sette and having just eaten a lot. However on this occasion I fell asleep because the film was rubbish. The plot development was constant. Constantly slow and boring. Things seemed to happen, but with no explanation of what was causing them or why. I admit, I may have missed part of the film, but i watched the majority of it and everything just seemed to happen of its own accord without any real concern for anything else. I cant recommend this film at all.'\n"
     ]
    }
   ],
   "source": [
    "reverse_word_index = dict([(value, key) for (key, value) in word_index.items()])\n",
    "\n",
    "def decode_review(text):\n",
    "    return ' '.join([reverse_word_index.get(i, '?') for i in text])\n",
    "\n",
    "print(decode_review(padded[1]))\n",
    "print(training_sentences[1])"
   ]
  },
  {
   "cell_type": "code",
   "execution_count": 14,
   "metadata": {
    "id": "5NEpdhb8AxID"
   },
   "outputs": [
    {
     "name": "stdout",
     "output_type": "stream",
     "text": [
      "Model: \"sequential_3\"\n",
      "_________________________________________________________________\n",
      " Layer (type)                Output Shape              Param #   \n",
      "=================================================================\n",
      " embedding_3 (Embedding)     (None, 120, 16)           160000    \n",
      "                                                                 \n",
      " bidirectional_2 (Bidirectio  (None, 64)               9600      \n",
      " nal)                                                            \n",
      "                                                                 \n",
      " dense_6 (Dense)             (None, 6)                 390       \n",
      "                                                                 \n",
      " dense_7 (Dense)             (None, 1)                 7         \n",
      "                                                                 \n",
      "=================================================================\n",
      "Total params: 169,997\n",
      "Trainable params: 169,997\n",
      "Non-trainable params: 0\n",
      "_________________________________________________________________\n"
     ]
    }
   ],
   "source": [
    "model = tf.keras.Sequential([\n",
    "    tf.keras.layers.Embedding(vocab_size, embedding_dim, input_length=max_length),\n",
    "    tf.keras.layers.Bidirectional(tf.keras.layers.GRU(32)),\n",
    "    tf.keras.layers.Dense(6, activation='relu'),\n",
    "    tf.keras.layers.Dense(1, activation='sigmoid')\n",
    "])\n",
    "model.compile(loss='binary_crossentropy',optimizer='adam',metrics=['accuracy'])\n",
    "model.summary()\n"
   ]
  },
  {
   "cell_type": "code",
   "execution_count": 6,
   "metadata": {
    "id": "V5LLrXC-uNX6"
   },
   "outputs": [
    {
     "name": "stdout",
     "output_type": "stream",
     "text": [
      "Epoch 1/50\n",
      "782/782 [==============================] - 21s 21ms/step - loss: 0.5150 - accuracy: 0.7192 - val_loss: 0.3575 - val_accuracy: 0.8424\n",
      "Epoch 2/50\n",
      "782/782 [==============================] - 17s 21ms/step - loss: 0.2999 - accuracy: 0.8770 - val_loss: 0.3537 - val_accuracy: 0.8437\n",
      "Epoch 3/50\n",
      "782/782 [==============================] - 16s 20ms/step - loss: 0.2316 - accuracy: 0.9103 - val_loss: 0.4099 - val_accuracy: 0.8281\n",
      "Epoch 4/50\n",
      "782/782 [==============================] - 15s 20ms/step - loss: 0.1791 - accuracy: 0.9342 - val_loss: 0.4108 - val_accuracy: 0.8285\n",
      "Epoch 5/50\n",
      "782/782 [==============================] - 15s 19ms/step - loss: 0.1334 - accuracy: 0.9532 - val_loss: 0.4985 - val_accuracy: 0.8237\n",
      "Epoch 6/50\n",
      "782/782 [==============================] - 16s 20ms/step - loss: 0.0948 - accuracy: 0.9674 - val_loss: 0.5857 - val_accuracy: 0.8208\n",
      "Epoch 7/50\n",
      "782/782 [==============================] - 15s 19ms/step - loss: 0.0593 - accuracy: 0.9809 - val_loss: 0.7381 - val_accuracy: 0.8097\n",
      "Epoch 8/50\n",
      "782/782 [==============================] - 16s 20ms/step - loss: 0.0418 - accuracy: 0.9859 - val_loss: 0.7628 - val_accuracy: 0.8037\n",
      "Epoch 9/50\n",
      "782/782 [==============================] - 16s 21ms/step - loss: 0.0299 - accuracy: 0.9898 - val_loss: 0.9361 - val_accuracy: 0.8081\n",
      "Epoch 10/50\n",
      "782/782 [==============================] - 16s 20ms/step - loss: 0.0263 - accuracy: 0.9906 - val_loss: 0.9376 - val_accuracy: 0.8107\n",
      "Epoch 11/50\n",
      "782/782 [==============================] - 16s 20ms/step - loss: 0.0178 - accuracy: 0.9935 - val_loss: 1.0905 - val_accuracy: 0.8124\n",
      "Epoch 12/50\n",
      "782/782 [==============================] - 16s 20ms/step - loss: 0.0160 - accuracy: 0.9940 - val_loss: 1.0768 - val_accuracy: 0.8136\n",
      "Epoch 13/50\n",
      "782/782 [==============================] - 15s 19ms/step - loss: 0.0145 - accuracy: 0.9941 - val_loss: 1.0704 - val_accuracy: 0.8036\n",
      "Epoch 14/50\n",
      "782/782 [==============================] - 16s 20ms/step - loss: 0.0093 - accuracy: 0.9969 - val_loss: 1.2458 - val_accuracy: 0.8096\n",
      "Epoch 15/50\n",
      "782/782 [==============================] - 16s 20ms/step - loss: 0.0087 - accuracy: 0.9971 - val_loss: 1.2872 - val_accuracy: 0.8118\n",
      "Epoch 16/50\n",
      "782/782 [==============================] - 16s 20ms/step - loss: 0.0123 - accuracy: 0.9959 - val_loss: 1.2251 - val_accuracy: 0.8078\n",
      "Epoch 17/50\n",
      "782/782 [==============================] - 16s 20ms/step - loss: 0.0076 - accuracy: 0.9978 - val_loss: 1.2204 - val_accuracy: 0.8070\n",
      "Epoch 18/50\n",
      "782/782 [==============================] - 16s 20ms/step - loss: 0.0126 - accuracy: 0.9952 - val_loss: 1.1690 - val_accuracy: 0.8022\n",
      "Epoch 19/50\n",
      "782/782 [==============================] - 15s 20ms/step - loss: 0.0100 - accuracy: 0.9966 - val_loss: 1.2688 - val_accuracy: 0.8094\n",
      "Epoch 20/50\n",
      "782/782 [==============================] - 17s 21ms/step - loss: 0.0050 - accuracy: 0.9984 - val_loss: 1.4177 - val_accuracy: 0.8013\n",
      "Epoch 21/50\n",
      "782/782 [==============================] - 16s 20ms/step - loss: 0.0035 - accuracy: 0.9987 - val_loss: 1.3070 - val_accuracy: 0.8068\n",
      "Epoch 22/50\n",
      "782/782 [==============================] - 15s 19ms/step - loss: 0.0054 - accuracy: 0.9981 - val_loss: 1.4474 - val_accuracy: 0.8054\n",
      "Epoch 23/50\n",
      "782/782 [==============================] - 15s 19ms/step - loss: 0.0098 - accuracy: 0.9969 - val_loss: 1.2942 - val_accuracy: 0.8072\n",
      "Epoch 24/50\n",
      "782/782 [==============================] - 15s 19ms/step - loss: 0.0056 - accuracy: 0.9980 - val_loss: 1.3066 - val_accuracy: 0.8067\n",
      "Epoch 25/50\n",
      "782/782 [==============================] - 15s 20ms/step - loss: 0.0056 - accuracy: 0.9983 - val_loss: 1.3751 - val_accuracy: 0.8060\n",
      "Epoch 26/50\n",
      "782/782 [==============================] - 15s 19ms/step - loss: 0.0049 - accuracy: 0.9984 - val_loss: 1.3752 - val_accuracy: 0.8073\n",
      "Epoch 27/50\n",
      "782/782 [==============================] - 15s 19ms/step - loss: 0.0043 - accuracy: 0.9985 - val_loss: 1.3617 - val_accuracy: 0.8040\n",
      "Epoch 28/50\n",
      "782/782 [==============================] - 15s 20ms/step - loss: 0.0048 - accuracy: 0.9984 - val_loss: 1.4306 - val_accuracy: 0.8093\n",
      "Epoch 29/50\n",
      "782/782 [==============================] - 16s 20ms/step - loss: 8.8673e-04 - accuracy: 0.9998 - val_loss: 1.6027 - val_accuracy: 0.8102\n",
      "Epoch 30/50\n",
      "782/782 [==============================] - 15s 19ms/step - loss: 7.5556e-05 - accuracy: 1.0000 - val_loss: 1.6473 - val_accuracy: 0.8116\n",
      "Epoch 31/50\n",
      "782/782 [==============================] - 16s 21ms/step - loss: 2.8247e-05 - accuracy: 1.0000 - val_loss: 1.7102 - val_accuracy: 0.8120\n",
      "Epoch 32/50\n",
      "782/782 [==============================] - 15s 20ms/step - loss: 1.8172e-05 - accuracy: 1.0000 - val_loss: 1.7657 - val_accuracy: 0.8123\n",
      "Epoch 33/50\n",
      "782/782 [==============================] - 16s 21ms/step - loss: 1.2419e-05 - accuracy: 1.0000 - val_loss: 1.8164 - val_accuracy: 0.8127\n",
      "Epoch 34/50\n",
      "782/782 [==============================] - 17s 22ms/step - loss: 8.5136e-06 - accuracy: 1.0000 - val_loss: 1.8726 - val_accuracy: 0.8123\n",
      "Epoch 35/50\n",
      "782/782 [==============================] - 19s 24ms/step - loss: 5.8031e-06 - accuracy: 1.0000 - val_loss: 1.9314 - val_accuracy: 0.8122\n",
      "Epoch 36/50\n",
      "782/782 [==============================] - 19s 24ms/step - loss: 3.9229e-06 - accuracy: 1.0000 - val_loss: 1.9924 - val_accuracy: 0.8119\n",
      "Epoch 37/50\n",
      "782/782 [==============================] - 18s 23ms/step - loss: 2.6419e-06 - accuracy: 1.0000 - val_loss: 2.0509 - val_accuracy: 0.8115\n",
      "Epoch 38/50\n",
      "782/782 [==============================] - 17s 22ms/step - loss: 1.7667e-06 - accuracy: 1.0000 - val_loss: 2.1146 - val_accuracy: 0.8111\n",
      "Epoch 39/50\n",
      "782/782 [==============================] - 15s 19ms/step - loss: 1.1754e-06 - accuracy: 1.0000 - val_loss: 2.1794 - val_accuracy: 0.8115\n",
      "Epoch 40/50\n",
      "782/782 [==============================] - 15s 20ms/step - loss: 7.8149e-07 - accuracy: 1.0000 - val_loss: 2.2416 - val_accuracy: 0.8116\n",
      "Epoch 41/50\n",
      "782/782 [==============================] - 15s 20ms/step - loss: 5.1742e-07 - accuracy: 1.0000 - val_loss: 2.3082 - val_accuracy: 0.8116\n",
      "Epoch 42/50\n",
      "782/782 [==============================] - 15s 20ms/step - loss: 3.4236e-07 - accuracy: 1.0000 - val_loss: 2.3733 - val_accuracy: 0.8117\n",
      "Epoch 43/50\n",
      "782/782 [==============================] - 16s 21ms/step - loss: 2.2594e-07 - accuracy: 1.0000 - val_loss: 2.4362 - val_accuracy: 0.8112\n",
      "Epoch 44/50\n",
      "782/782 [==============================] - 15s 20ms/step - loss: 1.5010e-07 - accuracy: 1.0000 - val_loss: 2.5030 - val_accuracy: 0.8112\n",
      "Epoch 45/50\n",
      "782/782 [==============================] - 15s 20ms/step - loss: 9.8922e-08 - accuracy: 1.0000 - val_loss: 2.5693 - val_accuracy: 0.8112\n",
      "Epoch 46/50\n",
      "782/782 [==============================] - 15s 20ms/step - loss: 6.6019e-08 - accuracy: 1.0000 - val_loss: 2.6342 - val_accuracy: 0.8114\n",
      "Epoch 47/50\n",
      "782/782 [==============================] - 15s 19ms/step - loss: 4.4319e-08 - accuracy: 1.0000 - val_loss: 2.6968 - val_accuracy: 0.8110\n",
      "Epoch 48/50\n",
      "782/782 [==============================] - 15s 19ms/step - loss: 2.9809e-08 - accuracy: 1.0000 - val_loss: 2.7608 - val_accuracy: 0.8110\n",
      "Epoch 49/50\n",
      "782/782 [==============================] - 16s 20ms/step - loss: 2.0172e-08 - accuracy: 1.0000 - val_loss: 2.8215 - val_accuracy: 0.8111\n",
      "Epoch 50/50\n",
      "782/782 [==============================] - 15s 19ms/step - loss: 1.3890e-08 - accuracy: 1.0000 - val_loss: 2.8829 - val_accuracy: 0.8110\n"
     ]
    }
   ],
   "source": [
    "num_epochs = 20\n",
    "history = model.fit(padded, training_labels_final, epochs=num_epochs, validation_data=(testing_padded, testing_labels_final))"
   ]
  },
  {
   "cell_type": "code",
   "execution_count": 7,
   "metadata": {
    "id": "nHGYuU4jPYaj"
   },
   "outputs": [
    {
     "data": {
      "image/png": "[encoded data removed]",
      "text/plain": [
       "<Figure size 432x288 with 1 Axes>"
      ]
     },
     "metadata": {
      "needs_background": "light"
     },
     "output_type": "display_data"
    },
    {
     "data": {
      "image/png": "[encoded data removed]",
      "text/plain": [
       "<Figure size 432x288 with 1 Axes>"
      ]
     },
     "metadata": {
      "needs_background": "light"
     },
     "output_type": "display_data"
    }
   ],
   "source": [
    "import matplotlib.pyplot as plt\n",
    "\n",
    "\n",
    "def plot_graphs(history, string):\n",
    "    plt.plot(history.history[string])\n",
    "    plt.plot(history.history['val_'+string])\n",
    "    plt.xlabel(\"Epochs\")\n",
    "    plt.ylabel(string)\n",
    "    plt.legend([string, 'val_'+string])\n",
    "    plt.show()\n",
    "\n",
    "plot_graphs(history, 'accuracy')\n",
    "plot_graphs(history, 'loss')"
   ]
  },
  {
   "cell_type": "code",
   "execution_count": 8,
   "metadata": {
    "id": "wSualgGPPK0S"
   },
   "outputs": [
    {
     "name": "stdout",
     "output_type": "stream",
     "text": [
      "Model: \"sequential_1\"\n",
      "_________________________________________________________________\n",
      " Layer (type)                Output Shape              Param #   \n",
      "=================================================================\n",
      " embedding_1 (Embedding)     (None, 120, 16)           160000    \n",
      "                                                                 \n",
      " bidirectional_1 (Bidirectio  (None, 64)               12544     \n",
      " nal)                                                            \n",
      "                                                                 \n",
      " dense_2 (Dense)             (None, 6)                 390       \n",
      "                                                                 \n",
      " dense_3 (Dense)             (None, 1)                 7         \n",
      "                                                                 \n",
      "=================================================================\n",
      "Total params: 172,941\n",
      "Trainable params: 172,941\n",
      "Non-trainable params: 0\n",
      "_________________________________________________________________\n"
     ]
    }
   ],
   "source": [
    "# Model Definition with LSTM\n",
    "model = tf.keras.Sequential([\n",
    "    tf.keras.layers.Embedding(vocab_size, embedding_dim, input_length=max_length),\n",
    "    tf.keras.layers.Bidirectional(tf.keras.layers.LSTM(32)),\n",
    "    tf.keras.layers.Dense(6, activation='relu'),\n",
    "    tf.keras.layers.Dense(1, activation='sigmoid')\n",
    "])\n",
    "model.compile(loss='binary_crossentropy',optimizer='adam',metrics=['accuracy'])\n",
    "model.summary()\n"
   ]
  },
  {
   "cell_type": "code",
   "execution_count": 9,
   "metadata": {
    "id": "K_Jc7cY3Qxke"
   },
   "outputs": [
    {
     "name": "stdout",
     "output_type": "stream",
     "text": [
      "Model: \"sequential_2\"\n",
      "_________________________________________________________________\n",
      " Layer (type)                Output Shape              Param #   \n",
      "=================================================================\n",
      " embedding_2 (Embedding)     (None, 120, 16)           160000    \n",
      "                                                                 \n",
      " conv1d (Conv1D)             (None, 116, 128)          10368     \n",
      "                                                                 \n",
      " global_average_pooling1d (G  (None, 128)              0         \n",
      " lobalAveragePooling1D)                                          \n",
      "                                                                 \n",
      " dense_4 (Dense)             (None, 6)                 774       \n",
      "                                                                 \n",
      " dense_5 (Dense)             (None, 1)                 7         \n",
      "                                                                 \n",
      "=================================================================\n",
      "Total params: 171,149\n",
      "Trainable params: 171,149\n",
      "Non-trainable params: 0\n",
      "_________________________________________________________________\n"
     ]
    }
   ],
   "source": [
    "# Model Definition with Conv1D\n",
    "model = tf.keras.Sequential([\n",
    "    tf.keras.layers.Embedding(vocab_size, embedding_dim, input_length=max_length),\n",
    "    tf.keras.layers.Conv1D(128, 5, activation='relu'),\n",
    "    tf.keras.layers.GlobalAveragePooling1D(),\n",
    "    tf.keras.layers.Dense(6, activation='relu'),\n",
    "    tf.keras.layers.Dense(1, activation='sigmoid')\n",
    "])\n",
    "model.compile(loss='binary_crossentropy',optimizer='adam',metrics=['accuracy'])\n",
    "model.summary()\n"
   ]
  },
  {
   "cell_type": "code",
   "execution_count": null,
   "metadata": {},
   "outputs": [],
   "source": []
  }
 ],
 "metadata": {
  "accelerator": "GPU",
  "colab": {
   "collapsed_sections": [],
   "include_colab_link": true,
   "name": "C3_W3_Lab_4_imdb_reviews_with_GRU_LSTM_Conv1D.ipynb",
   "provenance": [],
   "toc_visible": true
  },
  "kernelspec": {
   "display_name": "tensorflow-course",
   "language": "python",
   "name": "tensorflow-course"
  },
  "language_info": {
   "codemirror_mode": {
    "name": "ipython",
    "version": 3
   },
   "file_extension": ".py",
   "mimetype": "text/x-python",
   "name": "python",
   "nbconvert_exporter": "python",
   "pygments_lexer": "ipython3",
   "version": "3.9.7"
  }
 },
 "nbformat": 4,
 "nbformat_minor": 4
}
